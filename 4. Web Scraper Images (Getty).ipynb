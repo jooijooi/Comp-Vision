{
 "cells": [
  {
   "cell_type": "markdown",
   "metadata": {},
   "source": [
    "## Webscrapes Images from Getty\n",
    "\n",
    "https://www.gettyimages.in/"
   ]
  },
  {
   "cell_type": "code",
   "execution_count": null,
   "metadata": {},
   "outputs": [],
   "source": [
    "from selenium import webdriver\n",
    "# from selenium.webdriver.common.by import By\n",
    "# from selenium.webdriver.chrome.service import Service\n",
    "import urllib.request\n",
    "import time\n",
    "import os\n",
    "\n",
    "\n",
    "def download_image(object_name, src, seq, dir):\n",
    "    try:\n",
    "        filename = object_name + str(seq) + '_getty.jpg' # i.e: \"backpack0.jpg\"\n",
    "        image_path = os.path.abspath(os.path.join(os.getcwd(), dir, filename)) \n",
    "        urllib.request.urlretrieve(src, image_path) \n",
    "    \n",
    "    except Exception:\n",
    "        pass\n",
    "\n",
    "\n",
    "def browse_page(object_name, pages, dir):\n",
    "    seq = 0 \n",
    "    for i in range(pages): \n",
    "        try:\n",
    "            driver.execute_script('window.scrollTo(0, document.body.scrollHeight);') \n",
    "            time.sleep(3)\n",
    "            images = driver.find_elements_by_xpath(\"//img[contains(@class, 'MosaicAsset-module__thumb___epLhd')]\")\n",
    "        except:\n",
    "            continue\n",
    "\n",
    "        for image in images: \n",
    "            try:\n",
    "                src = image.get_attribute('src') \n",
    "                download_image(object_name, src, seq, dir) \n",
    "            except:\n",
    "                pass\n",
    "            seq += 1\n",
    "        try:\n",
    "            nextpage = driver.find_element_by_css_selector('.PaginationRow-module__nextButton___PYo5w').click() \n",
    "        except:\n",
    "            pass\n",
    "        time.sleep(3)\n",
    "\n",
    "if __name__ == '__main__':\n",
    "    object_name = input(\"Object You Are Searching For: \\n\") \n",
    "    url = input('Page URL You Want Scraped: \\n')\n",
    "    # Refers to url of page after keying in object e.g.https://www.gettyimages.com/search/2/image?family=creative&phrase=bag\n",
    "    dir = input('Path to Store Scraped Images: \\n')\n",
    "    pages = int(input('Number of Pages You Want Scraped: \\n')) \n",
    "    # Pages can be viewed by scrolling to end of page. Exceeding feasible number pf pages will result in looping and duplicates\n",
    "    \n",
    "    driver = webdriver.Chrome(r'C:\\Users\\mpe_03\\Desktop\\chrome\\chromedriver.exe') #path to your downloaded chromedriver\n",
    "    driver.maximize_window()\n",
    "    driver.get(url)\n",
    "    if not os.path.isdir(dir): \n",
    "        os.makedirs(dir)\n",
    "    browse_page(object_name, pages, dir)\n",
    "\n"
   ]
  },
  {
   "cell_type": "markdown",
   "metadata": {},
   "source": [
    "## THE END"
   ]
  },
  {
   "cell_type": "code",
   "execution_count": null,
   "metadata": {},
   "outputs": [],
   "source": []
  }
 ],
 "metadata": {
  "kernelspec": {
   "display_name": "Python 3 (ipykernel)",
   "language": "python",
   "name": "python3"
  },
  "language_info": {
   "codemirror_mode": {
    "name": "ipython",
    "version": 3
   },
   "file_extension": ".py",
   "mimetype": "text/x-python",
   "name": "python",
   "nbconvert_exporter": "python",
   "pygments_lexer": "ipython3",
   "version": "3.9.7"
  }
 },
 "nbformat": 4,
 "nbformat_minor": 4
}
