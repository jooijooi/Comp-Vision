{
 "cells": [
  {
   "cell_type": "code",
   "execution_count": 1,
   "id": "85756772",
   "metadata": {},
   "outputs": [],
   "source": [
    "import numpy as np\n",
    "import imutils\n",
    "import cv2\n",
    "import os\n",
    "from pathlib import Path\n",
    "import glob\n",
    "import matplotlib.pyplot as plt\n",
    "%matplotlib inline\n",
    "import shutil"
   ]
  },
  {
   "cell_type": "markdown",
   "id": "1c6da618",
   "metadata": {},
   "source": [
    "### Get Binary Masks through thresholding"
   ]
  },
  {
   "cell_type": "code",
   "execution_count": 11,
   "id": "c31518e8",
   "metadata": {},
   "outputs": [],
   "source": [
    "IMG_PATH= r'C:\\Users\\mpe_03\\Desktop\\shopee_backpack'\n",
    "#IMG_PATH= r'C:\\Users\\mpe_03\\Desktop\\IMAGE_DATASETS\\sqshot_images'\n",
    "\n",
    "def threshold_mask(IMG_PATH):\n",
    "    \n",
    "    \n",
    "    for file in os.listdir(IMG_PATH):\n",
    "        image_path=os.path.join(IMG_PATH, file)\n",
    "        image_filename=file.split('.')[0]\n",
    " \n",
    "        image=cv2.imread(image_path,cv2.IMREAD_GRAYSCALE) \n",
    "        threshold, th=cv2.threshold(image, 240,255, cv2.THRESH_BINARY) # Use threshold: if pixel value is greater than threshold => 255(white), \n",
    "        #else 0(black)\n",
    "        th2=cv2.adaptiveThreshold(image,0, cv2.ADAPTIVE_THRESH_MEAN_C, cv2.THRESH_BINARY,11,8) # Use adaptive threshold\n",
    "#       blend both images together\n",
    "        blended=cv2.addWeighted(src1=th,alpha=0.8, src2=th2, beta=0.2, gamma=0)\n",
    "        \n",
    "        #Using closing function (erosion followed by dilation to reduce small white noise in image)\n",
    "        kernel=np.ones((20,20), np.uint8)\n",
    "        opening=cv2.morphologyEx(blended, cv2.MORPH_OPEN, kernel)\n",
    "        #invert colour\n",
    "        mask=cv2.bitwise_not(opening)\n",
    "       \n",
    "        \n",
    "        cv2.imwrite(f'C:/Users/mpe_03/Desktop/Augment_Task/grabcut-maskrcnn/segmentations2/{image_filename}.jpg', mask)\n",
    "\n",
    "threshold_mask(IMG_PATH)"
   ]
  },
  {
   "cell_type": "markdown",
   "id": "be2d4e21",
   "metadata": {},
   "source": [
    "### Select only good masks and transfer their corresponding image files"
   ]
  },
  {
   "cell_type": "code",
   "execution_count": 33,
   "id": "bb4c4420",
   "metadata": {},
   "outputs": [],
   "source": [
    "IMG_PATH= r'C:\\Users\\mpe_03\\Desktop\\shopee_backpack'\n",
    "#IMG_PATH= r'C:\\Users\\mpe_03\\Desktop\\IMAGE_DATASETS\\sqshot_images'\n",
    "destination=r'C:\\Users\\mpe_03\\Desktop\\masks\\backpack_images'\n",
    "SELECTED_BACKPACKS_PATH=r'C:\\Users\\mpe_03\\Desktop\\masks\\backpack_masks'\n",
    "\n",
    "\n",
    "\n",
    "filename_list = [f.parts[-1].split(\".\")[0] for f in Path(SELECTED_BACKPACKS_PATH).iterdir()]\n",
    "\n",
    "for filename in os.listdir(IMG_PATH): \n",
    "    filename = filename.split('.')[0]\n",
    "    \n",
    "    if filename in filename_list: #if file is in the backpack good mask list\n",
    "        full_file_path=os.path.join(IMG_PATH, filename + '.jpg') #source path\n",
    "        full_path_destination=os.path.join(destination, filename + '.jpg') #destination path\n",
    "        shutil.copy(full_file_path, full_path_destination)\n",
    "        \n"
   ]
  },
  {
   "cell_type": "markdown",
   "id": "6af38c02",
   "metadata": {},
   "source": [
    "# THE END"
   ]
  }
 ],
 "metadata": {
  "kernelspec": {
   "display_name": "Python 3 (ipykernel)",
   "language": "python",
   "name": "python3"
  },
  "language_info": {
   "codemirror_mode": {
    "name": "ipython",
    "version": 3
   },
   "file_extension": ".py",
   "mimetype": "text/x-python",
   "name": "python",
   "nbconvert_exporter": "python",
   "pygments_lexer": "ipython3",
   "version": "3.9.7"
  }
 },
 "nbformat": 4,
 "nbformat_minor": 5
}
